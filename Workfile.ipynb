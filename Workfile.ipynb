{
 "cells": [
  {
   "cell_type": "code",
   "execution_count": null,
   "id": "0b775e68",
   "metadata": {},
   "outputs": [],
   "source": [
    "# required libraries\n",
    "import os\n",
    "import pandas as pd\n",
    "import numpy as np\n",
    "from pathlib import Path\n",
    "# Load the required libraries \n",
    "from rdflib import Graph, Literal, RDF, URIRef, Namespace\n",
    "# rdflib knows about some namespaces, like FOAF \n",
    "from rdflib.namespace import FOAF, XSD \n",
    "# CHECK DATE \n",
    "import datetime"
   ]
  },
  {
   "cell_type": "code",
   "execution_count": null,
   "id": "513465aa",
   "metadata": {},
   "outputs": [],
   "source": [
    "path = str(Path(os.path.abspath(os.getcwd())).parent.absolute())\n",
    "print(path)\n",
    "\n",
    "#C:\\Users\\irfan\\Downloads\\DB2\\\n",
    "coursesURL = 'C:/Users/irfan/Downloads/DB2/dataset/Courses.csv'\n",
    "\n",
    "instructorsURL = 'C:/Users/irfan/Downloads/DB2/dataset/Instructors.csv'\n",
    "reviewURL = 'C:/Users/irfan/Downloads/DB2/dataset/Reviews.csv'\n",
    "subscribersURL = 'C:/Users/irfan/Downloads/DB2/dataset/Subscribers.csv'\n",
    "# df = pd.read_csv(\"C:/Users/irfan/Downloads/DB2/dataset/Departments.csv\", usecols = ['department_id'])\n",
    "# print(df)\n",
    "\n",
    "departmentsURL = 'C:/Users/irfan/Downloads/DB2/dataset/Departments.csv'\n",
    "\n",
    "print(\"File paths are working perfectly.\")\n",
    "# saving folder\n",
    "savePath = 'C:/Users/irfan/Downloads/DB2/dataset/savefiles/'\n"
   ]
  },
  {
   "cell_type": "code",
   "execution_count": null,
   "id": "c7ecf020",
   "metadata": {},
   "outputs": [],
   "source": [
    "# Load the CSV files in memory\n",
    "courses = pd.read_csv(coursesURL, sep=',', index_col='CourseID')\n",
    "courses.dtypes"
   ]
  },
  {
   "cell_type": "code",
   "execution_count": null,
   "id": "3568d704",
   "metadata": {},
   "outputs": [],
   "source": [
    "courses.info()"
   ]
  },
  {
   "cell_type": "code",
   "execution_count": null,
   "id": "02923741",
   "metadata": {},
   "outputs": [],
   "source": [
    "# Load the required libraries\n",
    "from rdflib import Graph, Literal, RDF, URIRef, Namespace\n",
    "# rdflib knows about some namespaces, like FOAF\n",
    "from rdflib.namespace import FOAF, XSD"
   ]
  },
  {
   "cell_type": "code",
   "execution_count": null,
   "id": "b20b14a9",
   "metadata": {},
   "outputs": [],
   "source": [
    "# Construct the courses ontology namespaces not known by RDFlib\n",
    "CO = Namespace(\"http://www.semanticweb.org/user/ontologies/2022/10/udemy-courses#Course\")\n",
    "DPS = Namespace(\"http://www.semanticweb.org/user/ontologies/2022/10/udemy-courses#Deparment\")\n"
   ]
  },
  {
   "cell_type": "code",
   "execution_count": null,
   "id": "8ecb2211",
   "metadata": {},
   "outputs": [],
   "source": [
    "#create the graph\n",
    "g = Graph()\n",
    "\n",
    "# Bind the namespaces to a prefix for more readable output\n",
    "g.bind(\"foaf\", FOAF)\n",
    "g.bind(\"xsd\", XSD)\n",
    "g.bind(\"deparments\", DPS)\n",
    "g.bind(\"courses\", CO)"
   ]
  },
  {
   "cell_type": "code",
   "execution_count": null,
   "id": "8e5a5f7a",
   "metadata": {},
   "outputs": [],
   "source": [
    "# CHECK DATE \n",
    "import datetime"
   ]
  },
  {
   "cell_type": "code",
   "execution_count": null,
   "id": "b997553c",
   "metadata": {},
   "outputs": [],
   "source": [
    "%%time \n",
    "#measure execution time\n",
    "\n",
    "#iterate over the courses dataframe\n",
    "for index, row in courses.iterrows():\n",
    "    # Create the node to add to the Graph\n",
    "    # the node has the namespace + the course id as URI\n",
    "    Course = URIRef(CO[index])\n",
    "    # Add triples using store's add() method.\n",
    "    g.add((Course, RDF.type, CO.Course))\n",
    "    g.add((Course, CO['Course_Title'], Literal(row['courseTitle'], datatype=XSD.string)))\n",
    "    g.add((Course, CO['Course_Price'], Literal(row['price'], datatype=XSD.integer)))\n",
    "\n",
    "    ## handle department\n",
    "    #there can be more than one department per course\n",
    "    for c in str(row['department_name']).split(','):\n",
    "        cName = c.strip() #strip() method removes any leading (spaces at the beginning) and railing (spaces at the end) characters (space is the default leading character to remove)\n",
    "        # check if the department exists\n",
    "        if((departments.index == cName).any() == True):\n",
    "            #get the department ID, convert to string and get the lower case to match the department ID in the contology \n",
    "            dep_id = str(departments[departments.index == cName]['department_id'][0])\n",
    "            # create the RDF node\n",
    "            Department = URIRef(DPS[dep_id])\n",
    "            # add the edge connecting the Course and the Department \n",
    "            g.add((Course, CO['hasDepartment'], Department))\n",
    "\n"
   ]
  },
  {
   "cell_type": "code",
   "execution_count": null,
   "id": "eff09edc",
   "metadata": {},
   "outputs": [],
   "source": [
    "%%time\n",
    "# print all the data in the Turtle format\n",
    "print(\"--- saving serialization ---\")\n",
    "savePath = 'C:/Users/irfan/Downloads/DB2/dataset/savefiles/'\n",
    "with open(savePath + 'courses.ttl', 'w') as file:\n",
    "    file.write(g.serialize(format='turtle'))"
   ]
  },
  {
   "cell_type": "code",
   "execution_count": null,
   "id": "ff40dd9e",
   "metadata": {},
   "outputs": [],
   "source": [
    "# Load the CSV files in memory\n",
    "inst = pd.read_csv(instructorsURL, sep=',', index_col='instructor_id', keep_default_na=False, na_values=['_'])\n",
    "rev = pd.read_csv(reviewURL, sep=',', index_col='rev_id', keep_default_na=False, na_values=['_'])\n",
    "subs = pd.read_csv(subscribersURL, sep=',', index_col='subscriber_id', keep_default_na=False, na_values=['_'])"
   ]
  },
  {
   "cell_type": "code",
   "execution_count": null,
   "id": "b8f1668a",
   "metadata": {},
   "outputs": [],
   "source": [
    "print(\"Print data of instructor.\")\n",
    "inst.info()\n",
    "print(\"---------------------------.\")\n",
    "print(\"Print data of reveiwer.\")\n",
    "rev.info()\n",
    "print(\"---------------------------.\")\n",
    "print(\"Print data of Subscriber.\")\n",
    "subs.info()"
   ]
  },
  {
   "cell_type": "code",
   "execution_count": null,
   "id": "57a5e497",
   "metadata": {},
   "outputs": [],
   "source": [
    "#create a new graph\n",
    "g = Graph()"
   ]
  },
  {
   "cell_type": "code",
   "execution_count": null,
   "id": "6b65d20b",
   "metadata": {},
   "outputs": [],
   "source": [
    "%%time \n",
    "#measure execution time\n",
    "\n",
    "#iterate over the person dataframe\n",
    "for index, row in inst.iterrows():\n",
    "    # Create the node to add to the Graph\n",
    "    # the node has the namespace + the instructor id as URI\n",
    "    person = URIRef(CO[index])\n",
    "    g.add((person, RDF.type, FOAF.person))\n",
    "    # Add triples using store's add() method.\n",
    "    g.add((person, FOAF['name'], Literal(row['name'], datatype=XSD.string)))\n",
    "    if row['date_of_birth'] != '':\n",
    "        try:\n",
    "            datetime.datetime.strptime(str(row['date_of_birth']), '%Y-%m-%d')\n",
    "            g.add((person, CO['birthday'], Literal(row['date_of_birth'], datatype=XSD.date)))\n",
    "        except ValueError:\n",
    "            # probably it's the year alone\n",
    "            # check length\n",
    "            if (len(row['date_of_birth'])==4):\n",
    "                #it is a year\n",
    "                g.add((person, CO['birthday'], Literal(row['date_of_birth']+\"-01-01\", datatype=XSD.date)))\n",
    "    \n",
    "    if row['place_of_birth'] != '':\n",
    "        g.add((person, CO['birthplace'], Literal(row['place_of_birth'], datatype=XSD.string)))\n",
    "    \n",
    "    # check if the death day is not empty--i.e., the person is still alive\n",
    "#     if row['date_of_death'] != '':\n",
    "#         try:\n",
    "#             datetime.datetime.strptime(str(row['date_of_death']), '%Y-%m-%d')\n",
    "#             g.add((Person, CO['deathDay'], Literal(row['date_of_death'], datatype=XSD.date)))\n",
    "#         except ValueError:\n",
    "#             # probably it's the year alone\n",
    "#             # check length\n",
    "#             if (len(row['date_of_death'])==4):\n",
    "#                 #it is a year\n",
    "#                 g.add((Person, CO['deathDay'], Literal(row['date_of_death']+\"-01-01\", datatype=XSD.date)))\n",
    "        \n",
    "# Bind the namespaces to a prefix for more readable output\n",
    "g.bind(\"foaf\", FOAF)\n",
    "g.bind(\"xsd\", XSD)\n",
    "g.bind(\"departments\", DPS)\n",
    "g.bind(\"courses\", CO)"
   ]
  },
  {
   "cell_type": "code",
   "execution_count": null,
   "id": "b27300fa",
   "metadata": {},
   "outputs": [],
   "source": [
    "%%time\n",
    "# print all the data in the Turtle format\n",
    "print(\"--- saving serialization ---\")\n",
    "with open(savePath + 'instroctur.ttl', 'w') as file:\n",
    "    file.write(g.serialize(format='turtle'))"
   ]
  },
  {
   "cell_type": "code",
   "execution_count": null,
   "id": "23daa246",
   "metadata": {},
   "outputs": [],
   "source": [
    "# Load the CSV files in memory\n",
    "join = pd.read_csv(departmentsURL, sep=',', index_col='department_id', keep_default_na=False, na_values=['_'])"
   ]
  },
  {
   "cell_type": "code",
   "execution_count": null,
   "id": "6d3af947",
   "metadata": {},
   "outputs": [],
   "source": [
    "#create a new graph\n",
    "g = Graph()"
   ]
  },
  {
   "cell_type": "code",
   "execution_count": null,
   "id": "9c45329c",
   "metadata": {},
   "outputs": [],
   "source": [
    "#regular expressions\n",
    "import re\n",
    "dept_name = re.compile('act*')"
   ]
  },
  {
   "cell_type": "code",
   "execution_count": null,
   "id": "b13a441c",
   "metadata": {},
   "outputs": [],
   "source": [
    "join.info()"
   ]
  },
  {
   "cell_type": "code",
   "execution_count": null,
   "id": "30f060fd",
   "metadata": {},
   "outputs": [],
   "source": [
    "print(join)"
   ]
  },
  {
   "cell_type": "code",
   "execution_count": null,
   "id": "c34bb58c",
   "metadata": {},
   "outputs": [],
   "source": [
    "%%time \n",
    "#measure execution time\n",
    "\n",
    "#iterate over the join table dataframe\n",
    "for index, row in join.iterrows():\n",
    "    # Create the node about the course\n",
    "    # note that we do not add this resource to the database (created before)\n",
    "    Course = URIRef(CO[index])\n",
    "    \n",
    "    # Create the node about the department\n",
    "    # note that we do not add this resource to the database (created before)\n",
    "     #inst = URIRef(CO[row['instructor_id']])\n",
    "     #inst = CO(row['instructor_id'])\n",
    "    # get the role of the department\n",
    "    dept_name = row['department_name']\n",
    "    \n",
    "    # we have an actor or actress\n",
    "    if Web_Development.match(dept_name): \n",
    "        g.add((inst, CO['teachs'], Course))\n",
    "    elif Bussines_Finance.match(dept_name): \n",
    "        g.add((inst, CO['teachs'], Course))\n",
    "    elif Graphic_Design.match(dept_name): \n",
    "        g.add((inst, CO['teachs'], Course))\n",
    "    elif (dept_name=='Musical_Instrument'):\n",
    "        g.add((inst, CO['teachs'], Course))\n",
    "    else:\n",
    "        # note that, with the defined ontology, we cannot caracterize the specifi role of this person in the movie. \n",
    "        # why?\n",
    "        g.add((inst, CO['workedIn'], Course))\n",
    "\n",
    "# Bind the namespaces to a prefix for more readable output\n",
    "g.bind(\"foaf\", FOAF)\n",
    "g.bind(\"xsd\", XSD)\n",
    "g.bind(\"departments\", DPS)\n",
    "g.bind(\"courses\", CO)"
   ]
  },
  {
   "cell_type": "code",
   "execution_count": null,
   "id": "ce4efc83",
   "metadata": {},
   "outputs": [],
   "source": [
    "%%time\n",
    "# print all the data in the Turtle format\n",
    "print(\"--- saving serialization ---\")\n",
    "with open(savePath1 + 'name_movie_join.ttl', 'w') as file:\n",
    "    file.write(g.serialize(format='turtle'))"
   ]
  },
  {
   "cell_type": "code",
   "execution_count": null,
   "id": "33dd5bb7",
   "metadata": {},
   "outputs": [],
   "source": [
    "# queries\n",
    "courses = pd.read_csv(coursesURL)\n",
    "departments = pd.read_csv(departmentsURL)\n",
    "intstructor = pd.read_csv(instructorsURL)\n",
    "subscriber = pd.read_csv(subscribersURL)\n",
    "reveiwer = pd.read_csv(reviewURL)"
   ]
  },
  {
   "cell_type": "code",
   "execution_count": null,
   "id": "1f4646f1",
   "metadata": {},
   "outputs": [],
   "source": [
    "# querey 1\n",
    "courses.head(10)"
   ]
  },
  {
   "cell_type": "code",
   "execution_count": null,
   "id": "0368dc32",
   "metadata": {},
   "outputs": [],
   "source": [
    "# query 2\n",
    "total_rows=len(courses.axes[0]) #===> Axes of 0 is for a row\n",
    "total_cols=len(courses.axes[1]) #===> Axes of 0 is for a column\n",
    "print(\"Number of Rows: \"+str(total_rows))\n",
    "print(\"Number of Columns: \"+str(total_cols))"
   ]
  },
  {
   "cell_type": "code",
   "execution_count": null,
   "id": "b4c36e35",
   "metadata": {},
   "outputs": [],
   "source": [
    "# query 3\n",
    "result = pd.merge(courses,departments[[\"department_id\",\"number_of_instructors\",\"number_of_courses\"]],on=\"department_id\", how='left')\n",
    "result.head(20)"
   ]
  },
  {
   "cell_type": "code",
   "execution_count": null,
   "id": "4e3631a3",
   "metadata": {},
   "outputs": [],
   "source": [
    "# query 4\n",
    "result= pd.merge(departments,courses,on='department_id',how='inner',indicator=True)\n",
    "result.head()"
   ]
  },
  {
   "cell_type": "code",
   "execution_count": null,
   "id": "c347275b",
   "metadata": {},
   "outputs": [],
   "source": [
    "# query 5\n",
    "courses.nlargest(10, ['numberOfReviews'])"
   ]
  },
  {
   "cell_type": "code",
   "execution_count": null,
   "id": "3660b4ee",
   "metadata": {},
   "outputs": [],
   "source": [
    "# query 6\n",
    "# creating bool series False for NaN values\n",
    "bool_series = pd.isnull(courses[\"numberOfReviews\"])\n",
    " \n",
    "# displayed data only with numberOfReviews = NaN\n",
    "courses[bool_series]"
   ]
  },
  {
   "cell_type": "code",
   "execution_count": null,
   "id": "0a01b0c3",
   "metadata": {},
   "outputs": [],
   "source": [
    "# query 7\n",
    "print(\"Sum: \",courses[\"price\"].sum()) \n",
    "print(\"Mean: \",courses[\"price\"].mean())\n",
    "print(\"Maximum: \",courses[\"price\"].max())\n",
    "print(\"Minimum: \",courses[\"price\"].min())"
   ]
  },
  {
   "cell_type": "code",
   "execution_count": null,
   "id": "29cfab0a",
   "metadata": {},
   "outputs": [],
   "source": [
    "# query 8\n",
    "# print all the data teacher who is born in italy\n",
    "print(\"Contents in csv file:\", intstructor)\n",
    "plt.plot(intstructor.name, intstructor.surname)\n",
    "plt.show()"
   ]
  },
  {
   "cell_type": "code",
   "execution_count": null,
   "id": "f2395561",
   "metadata": {},
   "outputs": [],
   "source": [
    "# query 9\n",
    "\n",
    "bool_series = (reveiwer[\"rating\"] > 3)\n",
    " \n",
    "# displayed data only greater then 3 rating\n",
    "reveiwer[bool_series]"
   ]
  },
  {
   "cell_type": "code",
   "execution_count": null,
   "id": "74b126fa",
   "metadata": {},
   "outputs": [],
   "source": [
    "# query 10\n",
    "courses.groupby([\"department_name\",\"CourseID\"]).first(all)"
   ]
  },
  {
   "cell_type": "code",
   "execution_count": null,
   "id": "cb013467",
   "metadata": {},
   "outputs": [],
   "source": []
  }
 ],
 "metadata": {
  "kernelspec": {
   "display_name": "Python 3 (ipykernel)",
   "language": "python",
   "name": "python3"
  },
  "language_info": {
   "codemirror_mode": {
    "name": "ipython",
    "version": 3
   },
   "file_extension": ".py",
   "mimetype": "text/x-python",
   "name": "python",
   "nbconvert_exporter": "python",
   "pygments_lexer": "ipython3",
   "version": "3.9.7"
  }
 },
 "nbformat": 4,
 "nbformat_minor": 5
}
